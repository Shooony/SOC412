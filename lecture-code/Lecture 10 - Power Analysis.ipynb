{
 "cells": [
  {
   "cell_type": "markdown",
   "metadata": {},
   "source": [
    "# Lecture 10: Power Analysis\n",
    "A power analysis is a process for deciding what sample size to use based on the chance of observing the minimum effect you are looking for in your study. This power analysis uses [DeclareDesign](http://declaredesign.org/). Another option is the [egap Power Analysis page.](https://egap.org/content/power-analysis-simulations-r)\n",
    "\n",
    "In the following example, we:\n",
    "* establish *assumptions* about the experiment that we can *simulate*\n",
    "* simulate the experiment N times\n",
    "* *diagnose* the experiment design in light of our assumptions, for characteristics including:\n",
    "  * statistical power (chance of observing a statistically-significant result)\n",
    "  * bias in the results\n",
    "  * (more below)"
   ]
  },
  {
   "cell_type": "code",
   "execution_count": null,
   "metadata": {},
   "outputs": [],
   "source": [
    "options(\"scipen\"=9, \"digits\"=4)\n",
    "library(dplyr)\n",
    "library(MASS)\n",
    "library(ggplot2)\n",
    "library(rlang)\n",
    "library(corrplot)\n",
    "library(Hmisc)\n",
    "library(tidyverse)\n",
    "library(viridis)\n",
    "library(fabricatr)\n",
    "library(DeclareDesign)\n",
    "## Installed DeclareDesign 0.13 using the following command:\n",
    "# install.packages(\"DeclareDesign\", dependencies = TRUE,\n",
    "#                 repos = c(\"http://R.declaredesign.org\", \"https://cloud.r-project.org\"))\n",
    "options(repr.plot.width=7, repr.plot.height=4)\n",
    "\n",
    "set.seed(03456920)\n",
    "\n",
    "sessionInfo()"
   ]
  },
  {
   "cell_type": "markdown",
   "metadata": {},
   "source": [
    "# DeclareDesign Example\n",
    "This example defines a simple difference in means experiment with two arms."
   ]
  },
  {
   "cell_type": "code",
   "execution_count": null,
   "metadata": {},
   "outputs": [],
   "source": [
    "config.df <- data.frame(\n",
    "    pa.label = \"example.design\",\n",
    "    n.max = 200,\n",
    "    n.min = 10,\n",
    "    \n",
    "    y.mean.a    = 0,\n",
    "    y.sd.both   = 1,\n",
    "    y.effect.b  = 1\n",
    ")"
   ]
  },
  {
   "cell_type": "markdown",
   "metadata": {},
   "source": [
    "### Declare Population and Potential Outcomes\n",
    "The first step is to declare the population and potential outcomes:"
   ]
  },
  {
   "cell_type": "code",
   "execution_count": null,
   "metadata": {},
   "outputs": [],
   "source": [
    "design <-\n",
    "    declare_population(\n",
    "        N = config.df$n.min\n",
    "    ) +\n",
    "    declare_potential_outcomes(\n",
    "        YA_Z_0 = rnorm(n=N, mean = config.df$y.mean.a, sd = config.df$y.sd.both),\n",
    "        YA_Z_1 = rnorm(n=N, mean = config.df$y.mean.a + config.df$y.effect.b, sd = config.df$y.sd.both )\n",
    "    )\n",
    "design"
   ]
  },
  {
   "cell_type": "markdown",
   "metadata": {},
   "source": [
    "### Declare Assignment\n",
    "The next step is to declare the assignment/randomization approach"
   ]
  },
  {
   "cell_type": "code",
   "execution_count": null,
   "metadata": {},
   "outputs": [],
   "source": [
    "design <- design +\n",
    "    declare_assignment(num_arms = 2,\n",
    "                       conditions = (c(\"0\", \"1\")))\n",
    "design"
   ]
  },
  {
   "cell_type": "markdown",
   "metadata": {},
   "source": [
    "### Declare the Estimand\n",
    "The next step is to declare the estimand, the \"true effect\" that the experiment is estimating"
   ]
  },
  {
   "cell_type": "code",
   "execution_count": null,
   "metadata": {},
   "outputs": [],
   "source": [
    "design <- design + \n",
    "    declare_estimand(ate_YA_1_0 = config.df$y.effect.b)\n",
    "design"
   ]
  },
  {
   "cell_type": "markdown",
   "metadata": {},
   "source": [
    "### Declare the \"Reveal\"\n",
    "Describe the process of assigning conditions and observing variables (this code can get complex)"
   ]
  },
  {
   "cell_type": "code",
   "execution_count": null,
   "metadata": {},
   "outputs": [],
   "source": [
    "design <- design +\n",
    "    declare_reveal(outcome_variables = c(\"YA\"))\n",
    "design"
   ]
  },
  {
   "cell_type": "markdown",
   "metadata": {},
   "source": [
    "### Declare the Estimator\n",
    "Next, declare the estimator, the means by which you attempt to estimate the estimand."
   ]
  },
  {
   "cell_type": "code",
   "execution_count": null,
   "metadata": {},
   "outputs": [],
   "source": [
    "design <- design +\n",
    "    declare_estimator(YA ~ Z, estimand=\"ate_YA_1_0\")\n",
    "design"
   ]
  },
  {
   "cell_type": "markdown",
   "metadata": {},
   "source": [
    "### Diagnose the Design\n",
    "To diagnose the design, you can simulate the research design and observe characteristics of the total research design in relation to your assumptions.\n",
    "\n",
    "#### \"Diagnosands\" (results of the diagnosis)\n",
    "* **Bias** Difference between the mean *estimate* and the *estimand*\n",
    "* **RMSE** Root mean square error of the estimate sqrt(mean((estimate - estimand) ^ 2))\n",
    "* **Coverage** Probability of confidence intervals including the *estimand*\n",
    "* **Mean Estimate** The mean of all simulated *estimates*\n",
    "* **SD Estimate** The standard deviation of all simulated *estimates*\n",
    "* **Type S Rate** Probability of experiment to produce a statistically-significant result that is opposite in sign from the estimand\n",
    "* **Mean Estimand** The mean of the *estimand*"
   ]
  },
  {
   "cell_type": "code",
   "execution_count": null,
   "metadata": {},
   "outputs": [],
   "source": [
    "diagnose_design(design, sims=500, bootstrap_sims=500)"
   ]
  },
  {
   "cell_type": "markdown",
   "metadata": {},
   "source": [
    "# Conduct a Power Analysis\n",
    "## Utility Methods"
   ]
  },
  {
   "cell_type": "code",
   "execution_count": null,
   "metadata": {},
   "outputs": [],
   "source": [
    "# Return the minimum power reported in a diagnosis\n",
    "# \n",
    "#` @param diagnosis\n",
    "min.diagnosis.power <- function(diagnosis){\n",
    "    min(diagnosis$diagnosands_df['power'])\n",
    "}\n",
    "\n",
    "\n",
    "# CONSTRUCT A DIAGNOSIS\n",
    "#\n",
    "#' @param n.size     the sample size to test\n",
    "#' @param config.df  the configuration dataframe to use \n",
    "#' @param sims.count the number of simulations to carry out\n",
    "#' @param bootstrap.sims.count the number of bootstraps for estimating the simulation test statistics  \n",
    "\n",
    "diagnose.experiment <- function(n.size, config.df, sims.count=500, bootstrap.sims.count=500){\n",
    "    \n",
    "    declare_population(\n",
    "        N = n.size\n",
    "    ) +\n",
    "    declare_potential_outcomes(\n",
    "        YA_Z_0 = rnorm(n=N, mean = config.df$y.mean.a, sd = config.df$y.sd.both),\n",
    "        YA_Z_1 = rnorm(n=N, mean = config.df$y.mean.a + config.df$y.effect.b, sd = config.df$y.sd.both )\n",
    "    ) +\n",
    "    declare_assignment(num_arms = 2,\n",
    "                       conditions = (c(\"0\", \"1\"))) +\n",
    "    declare_estimand(ate_YA_1_0 = effect.b) +\n",
    "    declare_reveal(outcome_variables = c(\"YA\")) +\n",
    "    declare_estimator(YA ~ Z, estimand=\"ate_YA_1_0\")\n",
    "    \n",
    "    diagnosis <- diagnose_design(design, sims = sims.count, \n",
    "                                 bootstrap_sims = bootstrap.sims.count)\n",
    "    diagnosis\n",
    "}"
   ]
  },
  {
   "cell_type": "code",
   "execution_count": null,
   "metadata": {},
   "outputs": [],
   "source": [
    "# Iterate linearly for a certain level of statistical power\n",
    "# within the constraints of a configuration file\n",
    "# at a certain sample size increment. Useful for\n",
    "# illustrating ideas, or for comparing estimators with\n",
    "# very different statistical power, where the binary search\n",
    "# will optimize for the worst estimator but not show useful\n",
    "# indormation about more efficient estimators\n",
    "#\n",
    "#` @param config.df The configuration file in question\n",
    "#` @diagnosis.method The method that conducts a single DeclareDesign diagnosis and returns the diagnosis\n",
    "#` @iteration.interval when iterating, use this interval between sample sizes\n",
    "\n",
    "iterate.for.power <- function(config.df, diagnosis.method = diagnose.experiment, \n",
    "                             iteration.interval){  \n",
    "    max.sample.size = config.df$n.max\n",
    "    min.sample.size = config.df$n.min\n",
    "    current.sample.size = min.sample.size\n",
    "    \n",
    "    iteration.count = ceiling((max.sample.size - min.sample.size) / iteration.interval)\n",
    "\n",
    "    ## Initialize first iteration\n",
    "    print(paste(\"min:\", min.sample.size, \"max:\", max.sample.size, \"current:\", current.sample.size))\n",
    "    flush.console()\n",
    "\n",
    "    ptm = proc.time()\n",
    "    ddf <- diagnosis.method(current.sample.size, config.df)\n",
    "    ddf$diagnosands$n <- current.sample.size\n",
    "    diagnoses.df = ddf$diagnosands\n",
    "    current.power <- min.diagnosis.power(ddf)\n",
    "    time.elapsed <- proc.time() -  ptm\n",
    "    print(paste(\"     seconds:\", as.integer(time.elapsed['elapsed'])))\n",
    "    \n",
    "    for(i in seq(1, iteration.count)){\n",
    "        current.sample.size = current.sample.size + iteration.interval\n",
    "        print(paste(\"min:\", min.sample.size, \"max:\", max.sample.size, \"current:\", current.sample.size))\n",
    "        flush.console()\n",
    "    \n",
    "        ptm = proc.time()\n",
    "        ## conduct simulations\n",
    "        ddf <- diagnosis.method(current.sample.size, config.df)\n",
    "        ddf$diagnosands$n <- current.sample.size\n",
    "        ## append simulation results to dataframe\n",
    "        diagnoses.df <- rbind(diagnoses.df, ddf$diagnosands)\n",
    "        time.elapsed <- proc.time() -  ptm\n",
    "        print(paste(\"     seconds:\", as.integer(time.elapsed['elapsed'])))\n",
    "    }\n",
    "    diagnoses.df\n",
    "}"
   ]
  },
  {
   "cell_type": "code",
   "execution_count": null,
   "metadata": {},
   "outputs": [],
   "source": [
    "# Create a plot of a power search or iteration output\n",
    "# Especially useful in cases with multiple DVs or models\n",
    "#\n",
    "#' @param diagnoses Dataframe of diagnosis info\n",
    "#` @param config.df the power analysis config dataframe\n",
    "\n",
    "plot.power.results <- function(diagnoses, config.df){\n",
    "    for(estimator_label in unique(diagnoses$estimator_label)){\n",
    "        estimator.diagnoses <- diagnoses[diagnoses$estimator_label==estimator_label,]\n",
    "        estimator_min_sample = min(estimator.diagnoses$n[estimator.diagnoses$power>0.8])\n",
    "        p <- ggplot(data=estimator.diagnoses, aes(n, power)) +\n",
    "                geom_point(color=\"coral\") +\n",
    "                xlab(\"sample size\") +\n",
    "                ylim(0,1) +\n",
    "                geom_hline(aes(yintercept=0.8), linetype=\"dashed\") +\n",
    "                theme_light() +\n",
    "                ggtitle(paste(config.df$pa.label, \": statistical Power for Estimator \", estimator_label, \"\\n\",\n",
    "                              \"Minimum sample: \", estimator_min_sample, sep=\"\")) +\n",
    "                ggsave(paste(\"figures/power.analysis.\", make.names(estimator_label), \".\", config.df$pa.label, \".png\", sep=\"\"))\n",
    "    }\n",
    "}\n",
    "\n"
   ]
  },
  {
   "cell_type": "markdown",
   "metadata": {},
   "source": [
    "# Conduct Power Analysis\n",
    "In this code, we simulate the experiment at different sample sizes and plot the diagnosands by sample size."
   ]
  },
  {
   "cell_type": "code",
   "execution_count": null,
   "metadata": {},
   "outputs": [],
   "source": [
    "interval = 10\n",
    "power.iterate.df <- iterate.for.power(config.df, iteration.interval = interval)"
   ]
  },
  {
   "cell_type": "markdown",
   "metadata": {},
   "source": [
    "### Plot Statistical Power"
   ]
  },
  {
   "cell_type": "code",
   "execution_count": null,
   "metadata": {},
   "outputs": [],
   "source": [
    "ggplot(power.iterate.df, aes(n, power, color=estimator_label)) +\n",
    "    ## CHART SUBSTANCE\n",
    "    geom_line() +\n",
    "    geom_point() +\n",
    "    ## LABELS AND COSMETICS\n",
    "    geom_hline(yintercept=0.8, size=0.25) +\n",
    "    theme_bw(base_size = 12, base_family = \"Helvetica\") +\n",
    "    theme(axis.text.x = element_text(angle=45, hjust = 1)) +\n",
    "    scale_y_continuous(breaks = seq(0,1,0.1), limits = c(0,1), labels=scales::percent) +\n",
    "    scale_x_continuous(breaks = seq(config.df$n.min,config.df$n.max+10,interval)) +\n",
    "    scale_color_viridis(discrete=TRUE) +\n",
    "    xlab(\"sample size\") +\n",
    "    ggtitle(\"Statistical Power Associated with Estimators\")"
   ]
  },
  {
   "cell_type": "markdown",
   "metadata": {},
   "source": [
    "### Plot Estimator Bias"
   ]
  },
  {
   "cell_type": "code",
   "execution_count": null,
   "metadata": {},
   "outputs": [],
   "source": [
    "ggplot(power.iterate.df, aes(n, bias, color=estimator_label)) +\n",
    "    ## CHART SUBSTANCE\n",
    "    geom_line() +\n",
    "    geom_jitter(width=20, height=0) +\n",
    "    ## LABELS AND COSMETICS\n",
    "    theme_bw(base_size = 12, base_family = \"Helvetica\") +\n",
    "    theme(axis.text.x = element_text(angle=45, hjust = 1)) +\n",
    "    scale_x_continuous(breaks = seq(config.df$n.min,config.df$n.max+10,interval)) +\n",
    "    scale_color_viridis(discrete=TRUE) +\n",
    "    xlab(\"sample size\") +\n",
    "    ggtitle(\"Mean Bias Associated with Estimators\")"
   ]
  },
  {
   "cell_type": "markdown",
   "metadata": {},
   "source": [
    "### Plot Confidence Interval Coverage"
   ]
  },
  {
   "cell_type": "code",
   "execution_count": null,
   "metadata": {},
   "outputs": [],
   "source": [
    "ggplot(power.iterate.df, aes(n, coverage, color=estimator_label)) +\n",
    "    ## CHART SUBSTANCE\n",
    "    geom_line() +\n",
    "    geom_point() +\n",
    "    ## LABELS AND COSMETICS\n",
    "    theme_bw(base_size = 12, base_family = \"Helvetica\") +\n",
    "    theme(axis.text.x = element_text(angle=45, hjust = 1)) +\n",
    "    scale_x_continuous(breaks = seq(config.df$n.min,config.df$n.max+10,interval)) +\n",
    "    scale_y_continuous(breaks = seq(0,1,0.1), limits = c(0,1), labels=scales::percent) +\n",
    "    scale_color_viridis(discrete=TRUE) +\n",
    "    xlab(\"sample size\") +\n",
    "    ggtitle(\"Mean Confidence Interval Coverage Associated with Estimators\")"
   ]
  },
  {
   "cell_type": "markdown",
   "metadata": {},
   "source": [
    "### Plot Type S Rate"
   ]
  },
  {
   "cell_type": "code",
   "execution_count": null,
   "metadata": {},
   "outputs": [],
   "source": [
    "ggplot(power.iterate.df, aes(n, type_s_rate, color=estimator_label)) +\n",
    "    ## CHART SUBSTANCE\n",
    "    geom_line() +\n",
    "    geom_point() +\n",
    "    ## LABELS AND COSMETICS\n",
    "    theme_bw(base_size = 12, base_family = \"Helvetica\") +\n",
    "    theme(axis.text.x = element_text(angle=45, hjust = 1)) +\n",
    "    scale_x_continuous(breaks = seq(config.df$n.min,config.df$n.max+10,interval)) +\n",
    "    scale_y_continuous(breaks = seq(0,0.2,0.02), limits = c(0,0.2), labels=scales::percent) +\n",
    "    scale_color_viridis(discrete=TRUE) +\n",
    "    xlab(\"sample size\") +\n",
    "    ggtitle(\"Incorrect Sign of Estimate Associated with Estimators\")"
   ]
  },
  {
   "cell_type": "code",
   "execution_count": null,
   "metadata": {},
   "outputs": [],
   "source": []
  }
 ],
 "metadata": {
  "kernelspec": {
   "display_name": "R",
   "language": "R",
   "name": "ir"
  },
  "language_info": {
   "codemirror_mode": "r",
   "file_extension": ".r",
   "mimetype": "text/x-r-source",
   "name": "R",
   "pygments_lexer": "r",
   "version": "3.5.1"
  }
 },
 "nbformat": 4,
 "nbformat_minor": 2
}
